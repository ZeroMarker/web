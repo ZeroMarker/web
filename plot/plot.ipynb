{
 "cells": [
  {
   "cell_type": "code",
   "execution_count": null,
   "metadata": {
    "vscode": {
     "languageId": "ini"
    }
   },
   "outputs": [],
   "source": [
    "# -*- coding: utf-8 -*-\n",
    "import matplotlib.pyplot as plt\n",
    "import numpy as np\n",
    "# plt.rcParams[\"font.sans-serif\"]=[\"SimHei\"] #设置字体\n",
    "# plt.rcParams[\"axes.unicode_minus\"]=False #该语句解决图像中的“-”负号的乱码问题\n",
    "# data\n",
    "date_1st = [1, 2, 3, 4]\n",
    "stock1 = [4, 8, 4, 6]\n",
    "stock2 = [10, 12, 5, 3]\n",
    "\n",
    "# draw\n",
    "plt.plot(date_1st, stock1, 'ro--', label=\"Stock Code: 0041\")\n",
    "plt.plot(date_1st, stock2, 'b^--', label=\"Stock Code: 1142\")\n",
    "plt.title('Stock Graph')\n",
    "plt.xlabel('Season')\n",
    "plt.ylabel('Price')\n",
    "# find line notion\n",
    "plt.xticks([1, 2, 3, 4])\n",
    "plt.yticks(np.arange(2, 13, 1))\n",
    "plt.grid()\n",
    "plt.legend()\n",
    "plt.show()"
   ]
  }
 ],
 "metadata": {
  "language_info": {
   "name": "python"
  }
 },
 "nbformat": 4,
 "nbformat_minor": 2
}
