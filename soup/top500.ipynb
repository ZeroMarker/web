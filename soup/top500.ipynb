{
 "cells": [
  {
   "cell_type": "code",
   "execution_count": null,
   "metadata": {},
   "outputs": [],
   "source": [
    "import pandas as pd\n",
    "import matplotlib.pyplot as plt\n",
    "\n",
    "url = 'https://www.top500.org/lists/top500/2023/11/'\n",
    "data = pd.read_html(url)[0]\n",
    "# data\n",
    "# data.drop(\"关键数据\", axis=1, inplace=True)\n",
    "# data.to_excel(\"D:\\\\top500.xlsx\", index=False)\n",
    "# print(data[\"国家\"].value_counts())\n",
    "# plt.pie(data[\"System\"].value_counts())\n",
    "plt.figure(figsize=(8, 8))\n",
    "plt.pie(data['Rmax (PFlop/s)'], labels=data['System'].apply(lambda x: x.split()[0]), autopct='%1.1f%%', startangle=140)\n",
    "plt.title('Pie Chart of Rmaxs by System')\n",
    "plt.show()\n",
    "\n",
    "plt.figure(figsize=(8, 8))\n",
    "plt.pie(data['Rpeak (PFlop/s)'], labels=data['System'].apply(lambda x: x.split()[0]), autopct='%1.1f%%', startangle=140)\n",
    "plt.title('Pie Chart of Rpeaks by System')\n",
    "plt.show()"
   ]
  }
 ],
 "metadata": {
  "language_info": {
   "name": "python"
  }
 },
 "nbformat": 4,
 "nbformat_minor": 2
}
