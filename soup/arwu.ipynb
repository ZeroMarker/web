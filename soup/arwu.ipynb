{
 "cells": [
  {
   "cell_type": "code",
   "execution_count": null,
   "metadata": {},
   "outputs": [],
   "source": [
    "import pandas as pd\n",
    "# import matplotlib.pyplot as plt\n",
    "from googletrans import Translator\n",
    "\n",
    "url = \"https://www.shanghairanking.com/rankings/arwu/2023\"\n",
    "data = pd.read_html(url)[0]\n",
    "data"
   ]
  }
 ],
 "metadata": {
  "language_info": {
   "name": "python"
  }
 },
 "nbformat": 4,
 "nbformat_minor": 2
}
