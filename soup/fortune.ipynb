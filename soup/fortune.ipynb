{
 "cells": [
  {
   "cell_type": "code",
   "execution_count": null,
   "metadata": {},
   "outputs": [],
   "source": [
    "import pandas as pd\n",
    "import matplotlib.pyplot as plt\n",
    "from googletrans import Translator\n",
    "\n",
    "url = 'https://www.fortunechina.com/fortune500/c/2022-08/03/content_415683.htm'\n",
    "data = pd.read_html(url)[0]\n",
    "data.drop('关键数据', axis=1, inplace=True)\n",
    "# data.to_excel(\"D:\\\\top500.xlsx\", index=False)\n",
    "print(data['国家'].value_counts())\n",
    "company_count_by_country = data['国家'].value_counts()\n",
    "\n",
    "# Function to translate text using Google Translate API\n",
    "def translate_to_english(text):\n",
    "    translator = Translator()\n",
    "    translation = translator.translate(text, src='zh-cn', dest='en')\n",
    "    return translation.text\n",
    "\n",
    "# Translate the index values (countries) of the Series\n",
    "company_count_by_country.index = company_count_by_country.index.map(translate_to_english)\n",
    "\n",
    "# Threshold for grouping small parts into 'Other'\n",
    "threshold = 0.03  # Adjust as needed\n",
    "\n",
    "# Identify small parts\n",
    "small_parts = company_count_by_country[company_count_by_country < threshold * company_count_by_country.sum()]\n",
    "\n",
    "# Group small parts into 'Other'\n",
    "company_count_by_country['Other'] = small_parts.sum()\n",
    "\n",
    "# Remove small parts from the original Series\n",
    "company_count_by_country = company_count_by_country[company_count_by_country >= threshold * company_count_by_country.sum()]\n",
    "\n",
    "# Apply the translation function to the 'chinese_text' column\n",
    "plt.figure(figsize=(8, 8))\n",
    "plt.pie(company_count_by_country, labels=company_count_by_country.index, autopct='%1.1f%%', startangle=140)\n",
    "plt.title('Number of Companies by Country')\n",
    "plt.show()\n"
   ]
  }
 ],
 "metadata": {
  "language_info": {
   "name": "python"
  }
 },
 "nbformat": 4,
 "nbformat_minor": 2
}
