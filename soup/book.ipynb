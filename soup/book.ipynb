{
 "cells": [
  {
   "cell_type": "code",
   "execution_count": null,
   "metadata": {},
   "outputs": [],
   "source": [
    "import requests\n",
    "from bs4 import BeautifulSoup\n",
    "\n",
    "head = {\"user-agent\": \"Mozilla/5.0 (Windows NT 10.0; Win64; x64) AppleWebKit/537.36 (KHTML, like Gecko) Chrome/112.0.0.0 Safari/537.36\"}\n",
    "response = requests.get(\"https://books.toscrape.com/\", headers=head)\n",
    "# response = requests.get(\"https://movie.douban.com/top250\", headers=head)\n",
    "\n",
    "print(response.status_code)\n",
    "\n",
    "\n",
    "content = response.text\n",
    "soup = BeautifulSoup(content, \"html.parser\")\n",
    "\n",
    "all_prices = soup.findAll(\"p\", attrs={\"class\": \"price_color\"})\n",
    "for price in all_prices:\n",
    "    print(price.string[2:])\n",
    "\n",
    "all_titles = soup.findAll(\"h3\")\n",
    "for title in all_titles:\n",
    "    link = title.find(\"a\")\n",
    "    print(link.string)"
   ]
  }
 ],
 "metadata": {
  "language_info": {
   "name": "python"
  }
 },
 "nbformat": 4,
 "nbformat_minor": 2
}
